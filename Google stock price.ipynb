{
 "cells": [
  {
   "cell_type": "code",
   "execution_count": 1,
   "metadata": {},
   "outputs": [],
   "source": [
    "import numpy as np \n",
    "import pandas as pd \n",
    "import matplotlib.pyplot as plt \n",
    "from sklearn.preprocessing import MinMaxScaler\n",
    "from keras.models import Sequential\n",
    "from keras.layers import Dense,LSTM,Dropout"
   ]
  },
  {
   "cell_type": "code",
   "execution_count": 2,
   "metadata": {},
   "outputs": [
    {
     "data": {
      "text/html": [
       "<div>\n",
       "<style scoped>\n",
       "    .dataframe tbody tr th:only-of-type {\n",
       "        vertical-align: middle;\n",
       "    }\n",
       "\n",
       "    .dataframe tbody tr th {\n",
       "        vertical-align: top;\n",
       "    }\n",
       "\n",
       "    .dataframe thead th {\n",
       "        text-align: right;\n",
       "    }\n",
       "</style>\n",
       "<table border=\"1\" class=\"dataframe\">\n",
       "  <thead>\n",
       "    <tr style=\"text-align: right;\">\n",
       "      <th></th>\n",
       "      <th>Date</th>\n",
       "      <th>Open</th>\n",
       "      <th>High</th>\n",
       "      <th>Low</th>\n",
       "      <th>Close</th>\n",
       "      <th>Volume</th>\n",
       "    </tr>\n",
       "  </thead>\n",
       "  <tbody>\n",
       "    <tr>\n",
       "      <th>0</th>\n",
       "      <td>1/3/2012</td>\n",
       "      <td>325.25</td>\n",
       "      <td>332.83</td>\n",
       "      <td>324.97</td>\n",
       "      <td>663.59</td>\n",
       "      <td>7,380,500</td>\n",
       "    </tr>\n",
       "    <tr>\n",
       "      <th>1</th>\n",
       "      <td>1/4/2012</td>\n",
       "      <td>331.27</td>\n",
       "      <td>333.87</td>\n",
       "      <td>329.08</td>\n",
       "      <td>666.45</td>\n",
       "      <td>5,749,400</td>\n",
       "    </tr>\n",
       "    <tr>\n",
       "      <th>2</th>\n",
       "      <td>1/5/2012</td>\n",
       "      <td>329.83</td>\n",
       "      <td>330.75</td>\n",
       "      <td>326.89</td>\n",
       "      <td>657.21</td>\n",
       "      <td>6,590,300</td>\n",
       "    </tr>\n",
       "    <tr>\n",
       "      <th>3</th>\n",
       "      <td>1/6/2012</td>\n",
       "      <td>328.34</td>\n",
       "      <td>328.77</td>\n",
       "      <td>323.68</td>\n",
       "      <td>648.24</td>\n",
       "      <td>5,405,900</td>\n",
       "    </tr>\n",
       "    <tr>\n",
       "      <th>4</th>\n",
       "      <td>1/9/2012</td>\n",
       "      <td>322.04</td>\n",
       "      <td>322.29</td>\n",
       "      <td>309.46</td>\n",
       "      <td>620.76</td>\n",
       "      <td>11,688,800</td>\n",
       "    </tr>\n",
       "  </tbody>\n",
       "</table>\n",
       "</div>"
      ],
      "text/plain": [
       "       Date    Open    High     Low   Close      Volume\n",
       "0  1/3/2012  325.25  332.83  324.97  663.59   7,380,500\n",
       "1  1/4/2012  331.27  333.87  329.08  666.45   5,749,400\n",
       "2  1/5/2012  329.83  330.75  326.89  657.21   6,590,300\n",
       "3  1/6/2012  328.34  328.77  323.68  648.24   5,405,900\n",
       "4  1/9/2012  322.04  322.29  309.46  620.76  11,688,800"
      ]
     },
     "execution_count": 2,
     "metadata": {},
     "output_type": "execute_result"
    }
   ],
   "source": [
    "data = pd.read_csv('Google_train_data.csv')\n",
    "data.head()"
   ]
  },
  {
   "cell_type": "code",
   "execution_count": 3,
   "metadata": {},
   "outputs": [
    {
     "name": "stdout",
     "output_type": "stream",
     "text": [
      "<class 'pandas.core.frame.DataFrame'>\n",
      "RangeIndex: 1258 entries, 0 to 1257\n",
      "Data columns (total 6 columns):\n",
      " #   Column  Non-Null Count  Dtype  \n",
      "---  ------  --------------  -----  \n",
      " 0   Date    1258 non-null   object \n",
      " 1   Open    1258 non-null   float64\n",
      " 2   High    1258 non-null   float64\n",
      " 3   Low     1258 non-null   float64\n",
      " 4   Close   1258 non-null   object \n",
      " 5   Volume  1258 non-null   object \n",
      "dtypes: float64(3), object(3)\n",
      "memory usage: 59.1+ KB\n"
     ]
    }
   ],
   "source": [
    "data.info()"
   ]
  },
  {
   "cell_type": "code",
   "execution_count": 4,
   "metadata": {},
   "outputs": [],
   "source": [
    "data[\"Close\"]=pd.to_numeric(data.Close,errors='coerce')\n",
    "data = data.dropna()\n",
    "trainData = data.iloc[:,4:5].values"
   ]
  },
  {
   "cell_type": "code",
   "execution_count": 5,
   "metadata": {},
   "outputs": [
    {
     "name": "stdout",
     "output_type": "stream",
     "text": [
      "<class 'pandas.core.frame.DataFrame'>\n",
      "Index: 1149 entries, 0 to 1257\n",
      "Data columns (total 6 columns):\n",
      " #   Column  Non-Null Count  Dtype  \n",
      "---  ------  --------------  -----  \n",
      " 0   Date    1149 non-null   object \n",
      " 1   Open    1149 non-null   float64\n",
      " 2   High    1149 non-null   float64\n",
      " 3   Low     1149 non-null   float64\n",
      " 4   Close   1149 non-null   float64\n",
      " 5   Volume  1149 non-null   object \n",
      "dtypes: float64(4), object(2)\n",
      "memory usage: 62.8+ KB\n"
     ]
    }
   ],
   "source": [
    "data.info()"
   ]
  },
  {
   "cell_type": "code",
   "execution_count": 6,
   "metadata": {},
   "outputs": [
    {
     "data": {
      "text/plain": [
       "(1149, 1)"
      ]
     },
     "execution_count": 6,
     "metadata": {},
     "output_type": "execute_result"
    }
   ],
   "source": [
    "sc = MinMaxScaler(feature_range=(0,1))\n",
    "trainData = sc.fit_transform(trainData)\n",
    "trainData.shape"
   ]
  },
  {
   "cell_type": "code",
   "execution_count": 7,
   "metadata": {},
   "outputs": [],
   "source": [
    "X_train = []\n",
    "y_train = []\n",
    "\n",
    "for i in range (60,1149): #60 : timestep // 1149 : length of the data\n",
    "    X_train.append(trainData[i-60:i,0]) \n",
    "    y_train.append(trainData[i,0])\n",
    "\n",
    "X_train,y_train = np.array(X_train),np.array(y_train)"
   ]
  },
  {
   "cell_type": "code",
   "execution_count": 8,
   "metadata": {},
   "outputs": [
    {
     "data": {
      "text/plain": [
       "(1089, 60, 1)"
      ]
     },
     "execution_count": 8,
     "metadata": {},
     "output_type": "execute_result"
    }
   ],
   "source": [
    "X_train = np.reshape(X_train,(X_train.shape[0],X_train.shape[1],1)) #adding the batch_size axis\n",
    "X_train.shape"
   ]
  },
  {
   "cell_type": "code",
   "execution_count": 9,
   "metadata": {},
   "outputs": [
    {
     "name": "stderr",
     "output_type": "stream",
     "text": [
      "c:\\Users\\npnja\\AppData\\Local\\Programs\\Python\\Python312\\Lib\\site-packages\\keras\\src\\layers\\rnn\\rnn.py:204: UserWarning: Do not pass an `input_shape`/`input_dim` argument to a layer. When using Sequential models, prefer using an `Input(shape)` object as the first layer in the model instead.\n",
      "  super().__init__(**kwargs)\n"
     ]
    }
   ],
   "source": [
    "model = Sequential()\n",
    "\n",
    "model.add(LSTM(units=100, return_sequences = True, input_shape =(X_train.shape[1],1)))\n",
    "model.add(Dropout(0.2))\n",
    "\n",
    "model.add(LSTM(units=100, return_sequences = True))\n",
    "model.add(Dropout(0.2))\n",
    "\n",
    "model.add(LSTM(units=100, return_sequences = True))\n",
    "model.add(Dropout(0.2))\n",
    "\n",
    "model.add(LSTM(units=100, return_sequences = False))\n",
    "model.add(Dropout(0.2))\n",
    "\n",
    "model.add(Dense(units =1))\n",
    "model.compile(optimizer='adam',loss=\"mean_squared_error\")"
   ]
  },
  {
   "cell_type": "code",
   "execution_count": 10,
   "metadata": {},
   "outputs": [
    {
     "name": "stdout",
     "output_type": "stream",
     "text": [
      "Epoch 1/20\n",
      "35/35 - 7s - 189ms/step - loss: 0.0369\n",
      "Epoch 2/20\n",
      "35/35 - 3s - 83ms/step - loss: 0.0113\n",
      "Epoch 3/20\n",
      "35/35 - 3s - 77ms/step - loss: 0.0090\n",
      "Epoch 4/20\n",
      "35/35 - 3s - 76ms/step - loss: 0.0146\n",
      "Epoch 5/20\n",
      "35/35 - 3s - 74ms/step - loss: 0.0093\n",
      "Epoch 6/20\n",
      "35/35 - 6s - 158ms/step - loss: 0.0074\n",
      "Epoch 7/20\n",
      "35/35 - 4s - 127ms/step - loss: 0.0075\n",
      "Epoch 8/20\n",
      "35/35 - 4s - 121ms/step - loss: 0.0069\n",
      "Epoch 9/20\n",
      "35/35 - 4s - 120ms/step - loss: 0.0065\n",
      "Epoch 10/20\n",
      "35/35 - 4s - 113ms/step - loss: 0.0082\n",
      "Epoch 11/20\n",
      "35/35 - 4s - 109ms/step - loss: 0.0061\n",
      "Epoch 12/20\n",
      "35/35 - 4s - 113ms/step - loss: 0.0066\n",
      "Epoch 13/20\n",
      "35/35 - 4s - 115ms/step - loss: 0.0066\n",
      "Epoch 14/20\n",
      "35/35 - 4s - 109ms/step - loss: 0.0052\n",
      "Epoch 15/20\n",
      "35/35 - 4s - 113ms/step - loss: 0.0064\n",
      "Epoch 16/20\n",
      "35/35 - 4s - 110ms/step - loss: 0.0057\n",
      "Epoch 17/20\n",
      "35/35 - 4s - 115ms/step - loss: 0.0087\n",
      "Epoch 18/20\n",
      "35/35 - 4s - 120ms/step - loss: 0.0064\n",
      "Epoch 19/20\n",
      "35/35 - 4s - 115ms/step - loss: 0.0055\n",
      "Epoch 20/20\n",
      "35/35 - 4s - 118ms/step - loss: 0.0051\n"
     ]
    }
   ],
   "source": [
    "hist = model.fit(X_train, y_train, epochs = 20, batch_size = 32, verbose=2)"
   ]
  },
  {
   "cell_type": "code",
   "execution_count": 13,
   "metadata": {},
   "outputs": [
    {
     "data": {
      "image/png": "[encoded data removed]",
      "text/plain": [
       "<Figure size 640x480 with 1 Axes>"
      ]
     },
     "metadata": {},
     "output_type": "display_data"
    }
   ],
   "source": [
    "plt.plot(hist.history['loss'])\n",
    "plt.title('Training model loss')\n",
    "plt.ylabel('loss')\n",
    "plt.xlabel('epoch')\n",
    "plt.legend(['train'], loc='upper left')\n",
    "plt.show()"
   ]
  },
  {
   "cell_type": "code",
   "execution_count": 14,
   "metadata": {},
   "outputs": [
    {
     "data": {
      "text/plain": [
       "(192, 60, 1)"
      ]
     },
     "execution_count": 14,
     "metadata": {},
     "output_type": "execute_result"
    }
   ],
   "source": [
    "testData = pd.read_csv('Google_test_data.csv')\n",
    "testData[\"Close\"]=pd.to_numeric(testData.Close,errors='coerce')\n",
    "testData = testData.dropna()\n",
    "testData = testData.iloc[:,4:5]\n",
    "y_test = testData.iloc[60:,0:].values \n",
    "#input array for the model\n",
    "inputClosing = testData.iloc[:,0:].values \n",
    "inputClosing_scaled = sc.transform(inputClosing)\n",
    "inputClosing_scaled.shape\n",
    "X_test = []\n",
    "length = len(testData)\n",
    "timestep = 60\n",
    "for i in range(timestep,length):  \n",
    "    X_test.append(inputClosing_scaled[i-timestep:i,0])\n",
    "X_test = np.array(X_test)\n",
    "X_test = np.reshape(X_test,(X_test.shape[0],X_test.shape[1],1))\n",
    "X_test.shape"
   ]
  },
  {
   "cell_type": "code",
   "execution_count": 15,
   "metadata": {},
   "outputs": [
    {
     "name": "stdout",
     "output_type": "stream",
     "text": [
      "\u001b[1m6/6\u001b[0m \u001b[32m━━━━━━━━━━━━━━━━━━━━\u001b[0m\u001b[37m\u001b[0m \u001b[1m0s\u001b[0m 23ms/step\n"
     ]
    },
    {
     "data": {
      "text/plain": [
       "array([[1.1923759],\n",
       "       [1.1923883],\n",
       "       [1.1989098],\n",
       "       [1.2110873],\n",
       "       [1.2238733],\n",
       "       [1.2300211],\n",
       "       [1.2272522],\n",
       "       [1.2183237],\n",
       "       [1.2097034],\n",
       "       [1.2043715],\n",
       "       [1.1971664],\n",
       "       [1.1870996],\n",
       "       [1.1768805],\n",
       "       [1.166756 ],\n",
       "       [1.1607805],\n",
       "       [1.1597613],\n",
       "       [1.1685894],\n",
       "       [1.1870358],\n",
       "       [1.2121073],\n",
       "       [1.2407434],\n",
       "       [1.2609348],\n",
       "       [1.270462 ],\n",
       "       [1.2662929],\n",
       "       [1.2512401],\n",
       "       [1.2319822],\n",
       "       [1.2153372],\n",
       "       [1.2042919],\n",
       "       [1.1964289],\n",
       "       [1.1865546],\n",
       "       [1.1751114],\n",
       "       [1.1629905],\n",
       "       [1.149827 ],\n",
       "       [1.1325195],\n",
       "       [1.1112871],\n",
       "       [1.097181 ],\n",
       "       [1.0957186],\n",
       "       [1.1054702],\n",
       "       [1.1219611],\n",
       "       [1.1418488],\n",
       "       [1.1577071],\n",
       "       [1.1736451],\n",
       "       [1.1908219],\n",
       "       [1.2093266],\n",
       "       [1.2272538],\n",
       "       [1.2418938],\n",
       "       [1.2499003],\n",
       "       [1.2490474],\n",
       "       [1.2451032],\n",
       "       [1.2423103],\n",
       "       [1.2434412],\n",
       "       [1.2495561],\n",
       "       [1.255297 ],\n",
       "       [1.2584077],\n",
       "       [1.2582105],\n",
       "       [1.2577502],\n",
       "       [1.2555903],\n",
       "       [1.2501128],\n",
       "       [1.2457469],\n",
       "       [1.2485079],\n",
       "       [1.2583085],\n",
       "       [1.2755201],\n",
       "       [1.2991042],\n",
       "       [1.3208312],\n",
       "       [1.3334882],\n",
       "       [1.3350224],\n",
       "       [1.3275181],\n",
       "       [1.3185447],\n",
       "       [1.3121343],\n",
       "       [1.3096936],\n",
       "       [1.3095384],\n",
       "       [1.3108892],\n",
       "       [1.3122606],\n",
       "       [1.3104964],\n",
       "       [1.3070961],\n",
       "       [1.3033923],\n",
       "       [1.3011302],\n",
       "       [1.3009714],\n",
       "       [1.303184 ],\n",
       "       [1.3101571],\n",
       "       [1.3222823],\n",
       "       [1.3395599],\n",
       "       [1.3587811],\n",
       "       [1.374447 ],\n",
       "       [1.3838389],\n",
       "       [1.3917903],\n",
       "       [1.4028301],\n",
       "       [1.4170609],\n",
       "       [1.4311081],\n",
       "       [1.4421359],\n",
       "       [1.4488262],\n",
       "       [1.4534168],\n",
       "       [1.4607332],\n",
       "       [1.4724445],\n",
       "       [1.4829162],\n",
       "       [1.4871902],\n",
       "       [1.4832977],\n",
       "       [1.4712306],\n",
       "       [1.4533769],\n",
       "       [1.4342213],\n",
       "       [1.4204144],\n",
       "       [1.415128 ],\n",
       "       [1.4184797],\n",
       "       [1.4292597],\n",
       "       [1.44304  ],\n",
       "       [1.4557279],\n",
       "       [1.4641587],\n",
       "       [1.4684584],\n",
       "       [1.469963 ],\n",
       "       [1.4718493],\n",
       "       [1.4755828],\n",
       "       [1.4817312],\n",
       "       [1.4906583],\n",
       "       [1.5009786],\n",
       "       [1.5127504],\n",
       "       [1.5270249],\n",
       "       [1.5410314],\n",
       "       [1.5536169],\n",
       "       [1.5649736],\n",
       "       [1.5768707],\n",
       "       [1.5735352],\n",
       "       [1.5500128],\n",
       "       [1.5110557],\n",
       "       [1.4691554],\n",
       "       [1.4337084],\n",
       "       [1.4069247],\n",
       "       [1.3880275],\n",
       "       [1.3754822],\n",
       "       [1.3684497],\n",
       "       [1.3612468],\n",
       "       [1.3506302],\n",
       "       [1.3437487],\n",
       "       [1.3458979],\n",
       "       [1.3545383],\n",
       "       [1.3627232],\n",
       "       [1.3687099],\n",
       "       [1.3725495],\n",
       "       [1.3732163],\n",
       "       [1.3700424],\n",
       "       [1.3641142],\n",
       "       [1.3544887],\n",
       "       [1.3425734],\n",
       "       [1.328359 ],\n",
       "       [1.3036723],\n",
       "       [1.2716748],\n",
       "       [1.2365775],\n",
       "       [1.2037408],\n",
       "       [1.1802113],\n",
       "       [1.1705525],\n",
       "       [1.1739163],\n",
       "       [1.1862673],\n",
       "       [1.2045566],\n",
       "       [1.2246263],\n",
       "       [1.2441077],\n",
       "       [1.262649 ],\n",
       "       [1.279087 ],\n",
       "       [1.2936003],\n",
       "       [1.3072331],\n",
       "       [1.3187122],\n",
       "       [1.3228023],\n",
       "       [1.317664 ],\n",
       "       [1.3046722],\n",
       "       [1.2879759],\n",
       "       [1.2737703],\n",
       "       [1.2668619],\n",
       "       [1.2692692],\n",
       "       [1.28061  ],\n",
       "       [1.2953693],\n",
       "       [1.3103602],\n",
       "       [1.32555  ],\n",
       "       [1.3405395],\n",
       "       [1.3542352],\n",
       "       [1.366234 ],\n",
       "       [1.3763407],\n",
       "       [1.3830633],\n",
       "       [1.3860028],\n",
       "       [1.383274 ],\n",
       "       [1.3767762],\n",
       "       [1.3699065],\n",
       "       [1.3633522],\n",
       "       [1.3567506],\n",
       "       [1.3676676],\n",
       "       [1.3970199],\n",
       "       [1.4353741],\n",
       "       [1.4717263],\n",
       "       [1.4982151],\n",
       "       [1.510293 ],\n",
       "       [1.5029914],\n",
       "       [1.4827181],\n",
       "       [1.4575708],\n",
       "       [1.4382888],\n",
       "       [1.4263092],\n",
       "       [1.418747 ]], dtype=float32)"
      ]
     },
     "execution_count": 15,
     "metadata": {},
     "output_type": "execute_result"
    }
   ],
   "source": [
    "y_pred = model.predict(X_test)\n",
    "y_pred"
   ]
  },
  {
   "cell_type": "code",
   "execution_count": 16,
   "metadata": {},
   "outputs": [],
   "source": [
    "predicted_price = sc.inverse_transform(y_pred)"
   ]
  },
  {
   "cell_type": "code",
   "execution_count": 17,
   "metadata": {},
   "outputs": [
    {
     "data": {
      "image/png": "[encoded data removed]",
      "text/plain": [
       "<Figure size 640x480 with 1 Axes>"
      ]
     },
     "metadata": {},
     "output_type": "display_data"
    }
   ],
   "source": [
    "plt.plot(y_test, color = 'red', label = 'Actual Stock Price')\n",
    "plt.plot(predicted_price, color = 'green', label = 'Predicted Stock Price')\n",
    "plt.title('Google stock price prediction')\n",
    "plt.xlabel('Time')\n",
    "plt.ylabel('Stock Price')\n",
    "plt.legend()\n",
    "plt.show()"
   ]
  },
  {
   "cell_type": "code",
   "execution_count": null,
   "metadata": {},
   "outputs": [],
   "source": []
  }
 ],
 "metadata": {
  "kernelspec": {
   "display_name": "Python 3",
   "language": "python",
   "name": "python3"
  },
  "language_info": {
   "codemirror_mode": {
    "name": "ipython",
    "version": 3
   },
   "file_extension": ".py",
   "mimetype": "text/x-python",
   "name": "python",
   "nbconvert_exporter": "python",
   "pygments_lexer": "ipython3",
   "version": "3.12.1"
  }
 },
 "nbformat": 4,
 "nbformat_minor": 4
}
